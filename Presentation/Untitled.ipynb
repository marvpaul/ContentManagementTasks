{
 "cells": [
  {
   "cell_type": "code",
   "execution_count": 6,
   "metadata": {},
   "outputs": [
    {
     "name": "stdout",
     "output_type": "stream",
     "text": [
      "[PER: 'Sam/NNP'] 'was/VBD born/VBN in/IN' [GPE: 'Berlin/NNP']\n",
      "[PER: 'Jane/NNP'] 'works/VBZ in/IN' [GPE: 'California/NNP']\n"
     ]
    }
   ],
   "source": [
    "import nltk\n",
    "import re\n",
    "from nltk import chunk\n",
    "from nltk import chunk\n",
    "from nltk.sem.relextract import rtuple, _join, list2sym, tree2semi_rel, semi_rel2reldict, extract_rels\n",
    "#Text with 3 ne in each sentence\n",
    "text = \"The uncle Sam was born in Berlin, thats a City nearby Cologne. The mother Jane works in California, thats in America. Mrs Elizabeth, his daugther, lives in Bavaria, Germany. \"\n",
    "#Divide into sentences\n",
    "sentences = nltk.sent_tokenize(text)\n",
    "\n",
    "#Divide into tokens\n",
    "tokenized = [nltk.word_tokenize(sent) for sent in sentences]\n",
    "\n",
    "#Divide text into part of speech tags\n",
    "speech_tags = [nltk.pos_tag(token) for token in tokenized]\n",
    "\n",
    "#Find named entities\n",
    "chunked = [chunk.ne_chunk(sent, binary=False) for sent in speech_tags]\n",
    "\n",
    "chunked = [chunk.ne_chunk(sent) for sent in speech_tags]\n",
    "#Defining a regular expr.\n",
    "# \\b placeholder for named entity\n",
    "# .*\\bin\\b a named entity, followed by STH (.*) ending with IN followed by named entity\n",
    "IN = re.compile(r'.*\\bin\\b(?!\\b.+ing\\b)')\n",
    "#Get each relation between PERSON and GPE which follows the pattern IN\n",
    "for chunk in chunked:\n",
    "    rels = extract_rels('PERSON', 'GPE', chunk, corpus='ace', pattern=IN, window=7) # extract_rels method expects one chunked sentence\n",
    "    for rel in rels:\n",
    "        print(rtuple(rel))\n"
   ]
  },
  {
   "cell_type": "code",
   "execution_count": 8,
   "metadata": {
    "collapsed": true
   },
   "outputs": [],
   "source": [
    "import nltk\n",
    "import re\n",
    "from nltk import chunk\n",
    "from nltk import chunk\n",
    "from nltk.sem.relextract import rtuple, _join, list2sym, tree2semi_rel, semi_rel2reldict, extract_rels\n",
    "#Text with 2 ne in each sentence\n",
    "text = \"The uncle Sam was born in Berlin. The mother Jane works in California. Mrs Elizabeth, his daugther, lives in Bavaria. \"\n",
    "#Divide into sentences\n",
    "sentences = nltk.sent_tokenize(text)\n",
    "\n",
    "#Divide into tokens\n",
    "tokenized = [nltk.word_tokenize(sent) for sent in sentences]\n",
    "\n",
    "#Divide text into part of speech tags\n",
    "speech_tags = [nltk.pos_tag(token) for token in tokenized]\n",
    "\n",
    "#Find named entities\n",
    "chunked = [chunk.ne_chunk(sent, binary=False) for sent in speech_tags]\n",
    "\n",
    "chunked = [chunk.ne_chunk(sent) for sent in speech_tags]\n",
    "#Defining a regular expr.\n",
    "# \\b placeholder for named entity\n",
    "# .*\\bin\\b a named entity, followed by STH (.*) ending with IN followed by named entity\n",
    "IN = re.compile(r'.*\\bin\\b(?!\\b.+ing\\b)')\n",
    "#Get each relation between PERSON and GPE which follows the pattern IN\n",
    "for chunk in chunked:\n",
    "    rels = extract_rels('PERSON', 'GPE', chunk, corpus='ace', pattern=IN, window=7) # extract_rels method expects one chunked sentence\n",
    "    for rel in rels:\n",
    "        print(rtuple(rel))\n",
    "\n"
   ]
  },
  {
   "cell_type": "code",
   "execution_count": null,
   "metadata": {
    "collapsed": true
   },
   "outputs": [],
   "source": []
  }
 ],
 "metadata": {
  "kernelspec": {
   "display_name": "Python 3",
   "language": "python",
   "name": "python3"
  },
  "language_info": {
   "codemirror_mode": {
    "name": "ipython",
    "version": 3
   },
   "file_extension": ".py",
   "mimetype": "text/x-python",
   "name": "python",
   "nbconvert_exporter": "python",
   "pygments_lexer": "ipython3",
   "version": "3.6.2"
  }
 },
 "nbformat": 4,
 "nbformat_minor": 2
}
